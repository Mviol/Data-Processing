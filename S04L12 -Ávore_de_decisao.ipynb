{
 "cells": [
  {
   "cell_type": "markdown",
   "id": "2d231a58",
   "metadata": {},
   "source": [
    "##### Importando as bibliotecas "
   ]
  },
  {
   "cell_type": "code",
   "execution_count": 128,
   "id": "27b12608",
   "metadata": {},
   "outputs": [],
   "source": [
    "import numpy as np\n",
    "import pandas as pd\n",
    "from sklearn import datasets\n",
    "from sklearn.decomposition import PCA\n",
    "from sklearn.model_selection import GridSearchCV\n",
    "from sklearn.pipeline import Pipeline\n",
    "from sklearn.neighbors import KNeighborsClassifier\n",
    "from sklearn.preprocessing import StandardScaler\n",
    "from sklearn.model_selection import train_test_split\n",
    "from sklearn.tree import DecisionTreeClassifier, plot_tree, export_text\n",
    "from sklearn.metrics import accuracy_score"
   ]
  },
  {
   "cell_type": "markdown",
   "id": "51842bd0",
   "metadata": {},
   "source": [
    "##### - Importação da Base de dados. "
   ]
  },
  {
   "cell_type": "code",
   "execution_count": 129,
   "id": "7c8469df",
   "metadata": {},
   "outputs": [
    {
     "data": {
      "text/html": [
       "<div>\n",
       "<style scoped>\n",
       "    .dataframe tbody tr th:only-of-type {\n",
       "        vertical-align: middle;\n",
       "    }\n",
       "\n",
       "    .dataframe tbody tr th {\n",
       "        vertical-align: top;\n",
       "    }\n",
       "\n",
       "    .dataframe thead th {\n",
       "        text-align: right;\n",
       "    }\n",
       "</style>\n",
       "<table border=\"1\" class=\"dataframe\">\n",
       "  <thead>\n",
       "    <tr style=\"text-align: right;\">\n",
       "      <th></th>\n",
       "      <th>sample_id</th>\n",
       "      <th>mean_radius</th>\n",
       "      <th>mean_texture</th>\n",
       "      <th>mean_perimeter</th>\n",
       "      <th>mean_area</th>\n",
       "      <th>mean_smoothness</th>\n",
       "      <th>mean_compactness</th>\n",
       "      <th>mean_concavity</th>\n",
       "      <th>mean_concave_points</th>\n",
       "      <th>mean_symmetry</th>\n",
       "      <th>...</th>\n",
       "      <th>worst_texture</th>\n",
       "      <th>worst_perimeter</th>\n",
       "      <th>worst_area</th>\n",
       "      <th>worst_smoothness</th>\n",
       "      <th>worst_compactness</th>\n",
       "      <th>worst_concavity</th>\n",
       "      <th>worst_concave_points</th>\n",
       "      <th>worst_symmetry</th>\n",
       "      <th>worst_fractal_dimension</th>\n",
       "      <th>diagnosis</th>\n",
       "    </tr>\n",
       "  </thead>\n",
       "  <tbody>\n",
       "    <tr>\n",
       "      <th>0</th>\n",
       "      <td>842302</td>\n",
       "      <td>17.99</td>\n",
       "      <td>10.38</td>\n",
       "      <td>122.80</td>\n",
       "      <td>1001.0</td>\n",
       "      <td>0.11840</td>\n",
       "      <td>0.27760</td>\n",
       "      <td>0.3001</td>\n",
       "      <td>0.14710</td>\n",
       "      <td>0.2419</td>\n",
       "      <td>...</td>\n",
       "      <td>17.33</td>\n",
       "      <td>184.60</td>\n",
       "      <td>2019.0</td>\n",
       "      <td>0.1622</td>\n",
       "      <td>0.6656</td>\n",
       "      <td>0.7119</td>\n",
       "      <td>0.2654</td>\n",
       "      <td>0.4601</td>\n",
       "      <td>0.11890</td>\n",
       "      <td>malignant</td>\n",
       "    </tr>\n",
       "    <tr>\n",
       "      <th>1</th>\n",
       "      <td>842517</td>\n",
       "      <td>20.57</td>\n",
       "      <td>17.77</td>\n",
       "      <td>132.90</td>\n",
       "      <td>1326.0</td>\n",
       "      <td>0.08474</td>\n",
       "      <td>0.07864</td>\n",
       "      <td>0.0869</td>\n",
       "      <td>0.07017</td>\n",
       "      <td>0.1812</td>\n",
       "      <td>...</td>\n",
       "      <td>23.41</td>\n",
       "      <td>158.80</td>\n",
       "      <td>1956.0</td>\n",
       "      <td>0.1238</td>\n",
       "      <td>0.1866</td>\n",
       "      <td>0.2416</td>\n",
       "      <td>0.1860</td>\n",
       "      <td>0.2750</td>\n",
       "      <td>0.08902</td>\n",
       "      <td>malignant</td>\n",
       "    </tr>\n",
       "    <tr>\n",
       "      <th>2</th>\n",
       "      <td>84300903</td>\n",
       "      <td>19.69</td>\n",
       "      <td>21.25</td>\n",
       "      <td>130.00</td>\n",
       "      <td>1203.0</td>\n",
       "      <td>0.10960</td>\n",
       "      <td>0.15990</td>\n",
       "      <td>0.1974</td>\n",
       "      <td>0.12790</td>\n",
       "      <td>0.2069</td>\n",
       "      <td>...</td>\n",
       "      <td>25.53</td>\n",
       "      <td>152.50</td>\n",
       "      <td>1709.0</td>\n",
       "      <td>0.1444</td>\n",
       "      <td>0.4245</td>\n",
       "      <td>0.4504</td>\n",
       "      <td>0.2430</td>\n",
       "      <td>0.3613</td>\n",
       "      <td>0.08758</td>\n",
       "      <td>malignant</td>\n",
       "    </tr>\n",
       "    <tr>\n",
       "      <th>3</th>\n",
       "      <td>84348301</td>\n",
       "      <td>11.42</td>\n",
       "      <td>20.38</td>\n",
       "      <td>77.58</td>\n",
       "      <td>386.1</td>\n",
       "      <td>0.14250</td>\n",
       "      <td>0.28390</td>\n",
       "      <td>0.2414</td>\n",
       "      <td>0.10520</td>\n",
       "      <td>0.2597</td>\n",
       "      <td>...</td>\n",
       "      <td>26.50</td>\n",
       "      <td>98.87</td>\n",
       "      <td>567.7</td>\n",
       "      <td>0.2098</td>\n",
       "      <td>0.8663</td>\n",
       "      <td>0.6869</td>\n",
       "      <td>0.2575</td>\n",
       "      <td>0.6638</td>\n",
       "      <td>0.17300</td>\n",
       "      <td>malignant</td>\n",
       "    </tr>\n",
       "    <tr>\n",
       "      <th>4</th>\n",
       "      <td>84358402</td>\n",
       "      <td>20.29</td>\n",
       "      <td>14.34</td>\n",
       "      <td>135.10</td>\n",
       "      <td>1297.0</td>\n",
       "      <td>0.10030</td>\n",
       "      <td>0.13280</td>\n",
       "      <td>0.1980</td>\n",
       "      <td>0.10430</td>\n",
       "      <td>0.1809</td>\n",
       "      <td>...</td>\n",
       "      <td>16.67</td>\n",
       "      <td>152.20</td>\n",
       "      <td>1575.0</td>\n",
       "      <td>0.1374</td>\n",
       "      <td>0.2050</td>\n",
       "      <td>0.4000</td>\n",
       "      <td>0.1625</td>\n",
       "      <td>0.2364</td>\n",
       "      <td>0.07678</td>\n",
       "      <td>malignant</td>\n",
       "    </tr>\n",
       "  </tbody>\n",
       "</table>\n",
       "<p>5 rows × 32 columns</p>\n",
       "</div>"
      ],
      "text/plain": [
       "   sample_id  mean_radius  mean_texture  mean_perimeter  mean_area  \\\n",
       "0     842302        17.99         10.38          122.80     1001.0   \n",
       "1     842517        20.57         17.77          132.90     1326.0   \n",
       "2   84300903        19.69         21.25          130.00     1203.0   \n",
       "3   84348301        11.42         20.38           77.58      386.1   \n",
       "4   84358402        20.29         14.34          135.10     1297.0   \n",
       "\n",
       "   mean_smoothness  mean_compactness  mean_concavity  mean_concave_points  \\\n",
       "0          0.11840           0.27760          0.3001              0.14710   \n",
       "1          0.08474           0.07864          0.0869              0.07017   \n",
       "2          0.10960           0.15990          0.1974              0.12790   \n",
       "3          0.14250           0.28390          0.2414              0.10520   \n",
       "4          0.10030           0.13280          0.1980              0.10430   \n",
       "\n",
       "   mean_symmetry  ...  worst_texture  worst_perimeter  worst_area  \\\n",
       "0         0.2419  ...          17.33           184.60      2019.0   \n",
       "1         0.1812  ...          23.41           158.80      1956.0   \n",
       "2         0.2069  ...          25.53           152.50      1709.0   \n",
       "3         0.2597  ...          26.50            98.87       567.7   \n",
       "4         0.1809  ...          16.67           152.20      1575.0   \n",
       "\n",
       "   worst_smoothness  worst_compactness  worst_concavity  worst_concave_points  \\\n",
       "0            0.1622             0.6656           0.7119                0.2654   \n",
       "1            0.1238             0.1866           0.2416                0.1860   \n",
       "2            0.1444             0.4245           0.4504                0.2430   \n",
       "3            0.2098             0.8663           0.6869                0.2575   \n",
       "4            0.1374             0.2050           0.4000                0.1625   \n",
       "\n",
       "   worst_symmetry  worst_fractal_dimension  diagnosis  \n",
       "0          0.4601                  0.11890  malignant  \n",
       "1          0.2750                  0.08902  malignant  \n",
       "2          0.3613                  0.08758  malignant  \n",
       "3          0.6638                  0.17300  malignant  \n",
       "4          0.2364                  0.07678  malignant  \n",
       "\n",
       "[5 rows x 32 columns]"
      ]
     },
     "execution_count": 129,
     "metadata": {},
     "output_type": "execute_result"
    }
   ],
   "source": [
    "df = pd.read_csv('https://raw.githubusercontent.com/jefferson-oliva/databases/main/breast_cancer.csv')\n",
    "df.head()"
   ]
  },
  {
   "cell_type": "markdown",
   "id": "facc0449",
   "metadata": {},
   "source": [
    "##### Pré-procesamento dos dados. "
   ]
  },
  {
   "cell_type": "code",
   "execution_count": 130,
   "id": "8a52c444",
   "metadata": {},
   "outputs": [
    {
     "data": {
      "text/html": [
       "<div>\n",
       "<style scoped>\n",
       "    .dataframe tbody tr th:only-of-type {\n",
       "        vertical-align: middle;\n",
       "    }\n",
       "\n",
       "    .dataframe tbody tr th {\n",
       "        vertical-align: top;\n",
       "    }\n",
       "\n",
       "    .dataframe thead th {\n",
       "        text-align: right;\n",
       "    }\n",
       "</style>\n",
       "<table border=\"1\" class=\"dataframe\">\n",
       "  <thead>\n",
       "    <tr style=\"text-align: right;\">\n",
       "      <th></th>\n",
       "      <th>sample_id</th>\n",
       "      <th>mean_radius</th>\n",
       "      <th>mean_texture</th>\n",
       "      <th>mean_perimeter</th>\n",
       "      <th>mean_area</th>\n",
       "      <th>mean_smoothness</th>\n",
       "      <th>mean_compactness</th>\n",
       "      <th>mean_concavity</th>\n",
       "      <th>mean_concave_points</th>\n",
       "      <th>mean_symmetry</th>\n",
       "      <th>...</th>\n",
       "      <th>worst_texture</th>\n",
       "      <th>worst_perimeter</th>\n",
       "      <th>worst_area</th>\n",
       "      <th>worst_smoothness</th>\n",
       "      <th>worst_compactness</th>\n",
       "      <th>worst_concavity</th>\n",
       "      <th>worst_concave_points</th>\n",
       "      <th>worst_symmetry</th>\n",
       "      <th>worst_fractal_dimension</th>\n",
       "      <th>diagnosis</th>\n",
       "    </tr>\n",
       "  </thead>\n",
       "  <tbody>\n",
       "    <tr>\n",
       "      <th>0</th>\n",
       "      <td>842302</td>\n",
       "      <td>17.99</td>\n",
       "      <td>10.38</td>\n",
       "      <td>122.80</td>\n",
       "      <td>1001.0</td>\n",
       "      <td>0.11840</td>\n",
       "      <td>0.27760</td>\n",
       "      <td>0.3001</td>\n",
       "      <td>0.14710</td>\n",
       "      <td>0.2419</td>\n",
       "      <td>...</td>\n",
       "      <td>17.33</td>\n",
       "      <td>184.60</td>\n",
       "      <td>2019.0</td>\n",
       "      <td>0.1622</td>\n",
       "      <td>0.6656</td>\n",
       "      <td>0.7119</td>\n",
       "      <td>0.2654</td>\n",
       "      <td>0.4601</td>\n",
       "      <td>0.11890</td>\n",
       "      <td>1</td>\n",
       "    </tr>\n",
       "    <tr>\n",
       "      <th>1</th>\n",
       "      <td>842517</td>\n",
       "      <td>20.57</td>\n",
       "      <td>17.77</td>\n",
       "      <td>132.90</td>\n",
       "      <td>1326.0</td>\n",
       "      <td>0.08474</td>\n",
       "      <td>0.07864</td>\n",
       "      <td>0.0869</td>\n",
       "      <td>0.07017</td>\n",
       "      <td>0.1812</td>\n",
       "      <td>...</td>\n",
       "      <td>23.41</td>\n",
       "      <td>158.80</td>\n",
       "      <td>1956.0</td>\n",
       "      <td>0.1238</td>\n",
       "      <td>0.1866</td>\n",
       "      <td>0.2416</td>\n",
       "      <td>0.1860</td>\n",
       "      <td>0.2750</td>\n",
       "      <td>0.08902</td>\n",
       "      <td>1</td>\n",
       "    </tr>\n",
       "    <tr>\n",
       "      <th>2</th>\n",
       "      <td>84300903</td>\n",
       "      <td>19.69</td>\n",
       "      <td>21.25</td>\n",
       "      <td>130.00</td>\n",
       "      <td>1203.0</td>\n",
       "      <td>0.10960</td>\n",
       "      <td>0.15990</td>\n",
       "      <td>0.1974</td>\n",
       "      <td>0.12790</td>\n",
       "      <td>0.2069</td>\n",
       "      <td>...</td>\n",
       "      <td>25.53</td>\n",
       "      <td>152.50</td>\n",
       "      <td>1709.0</td>\n",
       "      <td>0.1444</td>\n",
       "      <td>0.4245</td>\n",
       "      <td>0.4504</td>\n",
       "      <td>0.2430</td>\n",
       "      <td>0.3613</td>\n",
       "      <td>0.08758</td>\n",
       "      <td>1</td>\n",
       "    </tr>\n",
       "    <tr>\n",
       "      <th>3</th>\n",
       "      <td>84348301</td>\n",
       "      <td>11.42</td>\n",
       "      <td>20.38</td>\n",
       "      <td>77.58</td>\n",
       "      <td>386.1</td>\n",
       "      <td>0.14250</td>\n",
       "      <td>0.28390</td>\n",
       "      <td>0.2414</td>\n",
       "      <td>0.10520</td>\n",
       "      <td>0.2597</td>\n",
       "      <td>...</td>\n",
       "      <td>26.50</td>\n",
       "      <td>98.87</td>\n",
       "      <td>567.7</td>\n",
       "      <td>0.2098</td>\n",
       "      <td>0.8663</td>\n",
       "      <td>0.6869</td>\n",
       "      <td>0.2575</td>\n",
       "      <td>0.6638</td>\n",
       "      <td>0.17300</td>\n",
       "      <td>1</td>\n",
       "    </tr>\n",
       "    <tr>\n",
       "      <th>4</th>\n",
       "      <td>84358402</td>\n",
       "      <td>20.29</td>\n",
       "      <td>14.34</td>\n",
       "      <td>135.10</td>\n",
       "      <td>1297.0</td>\n",
       "      <td>0.10030</td>\n",
       "      <td>0.13280</td>\n",
       "      <td>0.1980</td>\n",
       "      <td>0.10430</td>\n",
       "      <td>0.1809</td>\n",
       "      <td>...</td>\n",
       "      <td>16.67</td>\n",
       "      <td>152.20</td>\n",
       "      <td>1575.0</td>\n",
       "      <td>0.1374</td>\n",
       "      <td>0.2050</td>\n",
       "      <td>0.4000</td>\n",
       "      <td>0.1625</td>\n",
       "      <td>0.2364</td>\n",
       "      <td>0.07678</td>\n",
       "      <td>1</td>\n",
       "    </tr>\n",
       "  </tbody>\n",
       "</table>\n",
       "<p>5 rows × 32 columns</p>\n",
       "</div>"
      ],
      "text/plain": [
       "   sample_id  mean_radius  mean_texture  mean_perimeter  mean_area  \\\n",
       "0     842302        17.99         10.38          122.80     1001.0   \n",
       "1     842517        20.57         17.77          132.90     1326.0   \n",
       "2   84300903        19.69         21.25          130.00     1203.0   \n",
       "3   84348301        11.42         20.38           77.58      386.1   \n",
       "4   84358402        20.29         14.34          135.10     1297.0   \n",
       "\n",
       "   mean_smoothness  mean_compactness  mean_concavity  mean_concave_points  \\\n",
       "0          0.11840           0.27760          0.3001              0.14710   \n",
       "1          0.08474           0.07864          0.0869              0.07017   \n",
       "2          0.10960           0.15990          0.1974              0.12790   \n",
       "3          0.14250           0.28390          0.2414              0.10520   \n",
       "4          0.10030           0.13280          0.1980              0.10430   \n",
       "\n",
       "   mean_symmetry  ...  worst_texture  worst_perimeter  worst_area  \\\n",
       "0         0.2419  ...          17.33           184.60      2019.0   \n",
       "1         0.1812  ...          23.41           158.80      1956.0   \n",
       "2         0.2069  ...          25.53           152.50      1709.0   \n",
       "3         0.2597  ...          26.50            98.87       567.7   \n",
       "4         0.1809  ...          16.67           152.20      1575.0   \n",
       "\n",
       "   worst_smoothness  worst_compactness  worst_concavity  worst_concave_points  \\\n",
       "0            0.1622             0.6656           0.7119                0.2654   \n",
       "1            0.1238             0.1866           0.2416                0.1860   \n",
       "2            0.1444             0.4245           0.4504                0.2430   \n",
       "3            0.2098             0.8663           0.6869                0.2575   \n",
       "4            0.1374             0.2050           0.4000                0.1625   \n",
       "\n",
       "   worst_symmetry  worst_fractal_dimension  diagnosis  \n",
       "0          0.4601                  0.11890          1  \n",
       "1          0.2750                  0.08902          1  \n",
       "2          0.3613                  0.08758          1  \n",
       "3          0.6638                  0.17300          1  \n",
       "4          0.2364                  0.07678          1  \n",
       "\n",
       "[5 rows x 32 columns]"
      ]
     },
     "execution_count": 130,
     "metadata": {},
     "output_type": "execute_result"
    }
   ],
   "source": [
    "d = {'benign': 0,\n",
    "     'malignant': 1}\n",
    "\n",
    "df['diagnosis'] = df['diagnosis'].map(d)\n",
    "df.head()\n"
   ]
  },
  {
   "cell_type": "markdown",
   "id": "53215589",
   "metadata": {},
   "source": [
    "##### Gerando os rótulos"
   ]
  },
  {
   "cell_type": "code",
   "execution_count": 131,
   "id": "1bfbe996",
   "metadata": {},
   "outputs": [
    {
     "name": "stdout",
     "output_type": "stream",
     "text": [
      "Classe de Diagnóstico: [0 1]\n"
     ]
    }
   ],
   "source": [
    "y = df['diagnosis'].values\n",
    "print ('Classe de Diagnóstico:', np.unique(y))"
   ]
  },
  {
   "cell_type": "markdown",
   "id": "eba87c3c",
   "metadata": {},
   "source": [
    "##### Vetores  características"
   ]
  },
  {
   "cell_type": "code",
   "execution_count": 132,
   "id": "7aef6bfe",
   "metadata": {},
   "outputs": [
    {
     "data": {
      "text/plain": [
       "array([[17.99, 10.38],\n",
       "       [20.57, 17.77],\n",
       "       [19.69, 21.25],\n",
       "       ...,\n",
       "       [16.6 , 28.08],\n",
       "       [20.6 , 29.33],\n",
       "       [ 7.76, 24.54]])"
      ]
     },
     "execution_count": 132,
     "metadata": {},
     "output_type": "execute_result"
    }
   ],
   "source": [
    "X = df.iloc[:, [1,2]].values\n",
    "\n",
    "X"
   ]
  },
  {
   "cell_type": "markdown",
   "id": "2d069670",
   "metadata": {},
   "source": [
    "#####  Base de dados para o conjunto de teste e treinamento."
   ]
  },
  {
   "cell_type": "code",
   "execution_count": 133,
   "id": "25d4b8fb",
   "metadata": {},
   "outputs": [
    {
     "data": {
      "text/plain": [
       "array([250, 148], dtype=int64)"
      ]
     },
     "execution_count": 133,
     "metadata": {},
     "output_type": "execute_result"
    }
   ],
   "source": [
    "X_train, X_test, y_train, y_test = train_test_split(X, y, test_size=0.3, shuffle=True, random_state=123, stratify=y)\n",
    "np.bincount(y_train)"
   ]
  },
  {
   "cell_type": "code",
   "execution_count": 134,
   "id": "44ec755a",
   "metadata": {},
   "outputs": [
    {
     "name": "stdout",
     "output_type": "stream",
     "text": [
      "y: [357 212]\n",
      "y_train: [250 148]\n",
      "y_test: [107  64]\n"
     ]
    }
   ],
   "source": [
    "print ('y:', np.bincount(y))\n",
    "print ('y_train:', np.bincount(y_train))\n",
    "print ('y_test:', np.bincount(y_test))"
   ]
  },
  {
   "cell_type": "markdown",
   "id": "b23dd894",
   "metadata": {},
   "source": [
    "##### Gerando Pipeline de dados"
   ]
  },
  {
   "cell_type": "code",
   "execution_count": 135,
   "id": "d2b79a91",
   "metadata": {},
   "outputs": [],
   "source": [
    "pipe = Pipeline([\n",
    "        ('z-score', StandardScaler()),\n",
    "        ('reduce_dim', PCA()),\n",
    "        ('classify', DecisionTreeClassifier())])"
   ]
  },
  {
   "cell_type": "code",
   "execution_count": 136,
   "id": "d2aa39fc",
   "metadata": {},
   "outputs": [],
   "source": [
    "parameters = {\n",
    "    'reduce_dim__n_components': list(range (1,4)),\n",
    "    'classify__criterion':['gini', 'entropy'],\n",
    "    'classify__max_depth': list(range(1,10,2))\n",
    "}"
   ]
  },
  {
   "cell_type": "markdown",
   "id": "f8738d10",
   "metadata": {},
   "source": [
    "##### Fitando a base de treinamento"
   ]
  },
  {
   "cell_type": "code",
   "execution_count": 137,
   "id": "a3646781",
   "metadata": {},
   "outputs": [
    {
     "data": {
      "text/plain": [
       "Pipeline(steps=[('z-score', StandardScaler()), ('reduce_dim', PCA()),\n",
       "                ('classify', DecisionTreeClassifier())])"
      ]
     },
     "execution_count": 137,
     "metadata": {},
     "output_type": "execute_result"
    }
   ],
   "source": [
    "pipe.fit(X_train, y_train)\n"
   ]
  },
  {
   "cell_type": "markdown",
   "id": "03175804",
   "metadata": {},
   "source": [
    "#####  Para realizar as tranformações : \"pipe.predict\""
   ]
  },
  {
   "cell_type": "code",
   "execution_count": 138,
   "id": "f546973e",
   "metadata": {},
   "outputs": [
    {
     "data": {
      "text/plain": [
       "0.8654970760233918"
      ]
     },
     "execution_count": 138,
     "metadata": {},
     "output_type": "execute_result"
    }
   ],
   "source": [
    "from sklearn.metrics import accuracy_score\n",
    "\n",
    "y_test_pred = pipe.predict(X_test)\n",
    "accuracy_score(y_test, y_test_pred)"
   ]
  },
  {
   "cell_type": "markdown",
   "id": "4b064c22",
   "metadata": {},
   "source": [
    "##### Gerando GridSearch"
   ]
  },
  {
   "cell_type": "code",
   "execution_count": 125,
   "id": "9355bdb8",
   "metadata": {},
   "outputs": [],
   "source": [
    "param_grid = {\n",
    "   'reduce_dim__n_components': [1, 2],\n",
    "    'classify__n_neighbors': [2, 3]\n",
    "}\n",
    "\n"
   ]
  },
  {
   "cell_type": "code",
   "execution_count": 139,
   "id": "e550df9f",
   "metadata": {},
   "outputs": [],
   "source": [
    "grid = GridSearchCV(pipe, cv=2, n_jobs=1, param_grid=parameters, scoring='accuracy')"
   ]
  },
  {
   "cell_type": "code",
   "execution_count": 140,
   "id": "4ea57025",
   "metadata": {},
   "outputs": [
    {
     "name": "stderr",
     "output_type": "stream",
     "text": [
      "C:\\Users\\mttvi\\anaconda3\\lib\\site-packages\\sklearn\\model_selection\\_validation.py:372: FitFailedWarning: \n",
      "20 fits failed out of a total of 60.\n",
      "The score on these train-test partitions for these parameters will be set to nan.\n",
      "If these failures are not expected, you can try to debug them by setting error_score='raise'.\n",
      "\n",
      "Below are more details about the failures:\n",
      "--------------------------------------------------------------------------------\n",
      "20 fits failed with the following error:\n",
      "Traceback (most recent call last):\n",
      "  File \"C:\\Users\\mttvi\\anaconda3\\lib\\site-packages\\sklearn\\model_selection\\_validation.py\", line 680, in _fit_and_score\n",
      "    estimator.fit(X_train, y_train, **fit_params)\n",
      "  File \"C:\\Users\\mttvi\\anaconda3\\lib\\site-packages\\sklearn\\pipeline.py\", line 390, in fit\n",
      "    Xt = self._fit(X, y, **fit_params_steps)\n",
      "  File \"C:\\Users\\mttvi\\anaconda3\\lib\\site-packages\\sklearn\\pipeline.py\", line 348, in _fit\n",
      "    X, fitted_transformer = fit_transform_one_cached(\n",
      "  File \"C:\\Users\\mttvi\\anaconda3\\lib\\site-packages\\joblib\\memory.py\", line 349, in __call__\n",
      "    return self.func(*args, **kwargs)\n",
      "  File \"C:\\Users\\mttvi\\anaconda3\\lib\\site-packages\\sklearn\\pipeline.py\", line 893, in _fit_transform_one\n",
      "    res = transformer.fit_transform(X, y, **fit_params)\n",
      "  File \"C:\\Users\\mttvi\\anaconda3\\lib\\site-packages\\sklearn\\decomposition\\_pca.py\", line 407, in fit_transform\n",
      "    U, S, Vt = self._fit(X)\n",
      "  File \"C:\\Users\\mttvi\\anaconda3\\lib\\site-packages\\sklearn\\decomposition\\_pca.py\", line 457, in _fit\n",
      "    return self._fit_full(X, n_components)\n",
      "  File \"C:\\Users\\mttvi\\anaconda3\\lib\\site-packages\\sklearn\\decomposition\\_pca.py\", line 475, in _fit_full\n",
      "    raise ValueError(\n",
      "ValueError: n_components=3 must be between 0 and min(n_samples, n_features)=2 with svd_solver='full'\n",
      "\n",
      "  warnings.warn(some_fits_failed_message, FitFailedWarning)\n",
      "C:\\Users\\mttvi\\anaconda3\\lib\\site-packages\\sklearn\\model_selection\\_search.py:969: UserWarning: One or more of the test scores are non-finite: [0.86683417 0.86683417        nan 0.85678392 0.87437186        nan\n",
      " 0.84422111 0.84673367        nan 0.84673367 0.85427136        nan\n",
      " 0.81909548 0.84924623        nan 0.86683417 0.86683417        nan\n",
      " 0.86683417 0.87939698        nan 0.86180905 0.87437186        nan\n",
      " 0.84924623 0.8718593         nan 0.82663317 0.86683417        nan]\n",
      "  warnings.warn(\n"
     ]
    },
    {
     "data": {
      "text/plain": [
       "GridSearchCV(cv=2,\n",
       "             estimator=Pipeline(steps=[('z-score', StandardScaler()),\n",
       "                                       ('reduce_dim', PCA()),\n",
       "                                       ('classify', DecisionTreeClassifier())]),\n",
       "             n_jobs=1,\n",
       "             param_grid={'classify__criterion': ['gini', 'entropy'],\n",
       "                         'classify__max_depth': [1, 3, 5, 7, 9],\n",
       "                         'reduce_dim__n_components': [1, 2, 3]},\n",
       "             scoring='accuracy')"
      ]
     },
     "execution_count": 140,
     "metadata": {},
     "output_type": "execute_result"
    }
   ],
   "source": [
    "grid.fit(X_train, y_train)"
   ]
  },
  {
   "cell_type": "code",
   "execution_count": 141,
   "id": "d5892843",
   "metadata": {},
   "outputs": [
    {
     "name": "stdout",
     "output_type": "stream",
     "text": [
      "{'mean_fit_time': array([0.09024441, 0.0077945 , 0.        , 0.00781441, 0.00791478,\n",
      "       0.00253356, 0.00744689, 0.        , 0.        , 0.        ,\n",
      "       0.01721704, 0.        , 0.00650418, 0.01775324, 0.        ,\n",
      "       0.03166091, 0.00064695, 0.00350332, 0.00466788, 0.        ,\n",
      "       0.        , 0.        , 0.00459146, 0.00041771, 0.00741482,\n",
      "       0.00187087, 0.        , 0.00797892, 0.        , 0.00121069]), 'std_fit_time': array([0.09024441, 0.0077945 , 0.        , 0.00781441, 0.00791478,\n",
      "       0.00253356, 0.00055754, 0.        , 0.        , 0.        ,\n",
      "       0.01721704, 0.        , 0.00650418, 0.01775324, 0.        ,\n",
      "       0.03166091, 0.00064695, 0.00350332, 0.00466788, 0.        ,\n",
      "       0.        , 0.        , 0.00459146, 0.00041771, 0.00741482,\n",
      "       0.00187087, 0.        , 0.00797892, 0.        , 0.00121069]), 'mean_score_time': array([0.21757674, 0.        , 0.        , 0.00102949, 0.        ,\n",
      "       0.        , 0.00075674, 0.        , 0.        , 0.        ,\n",
      "       0.        , 0.        , 0.        , 0.        , 0.        ,\n",
      "       0.        , 0.        , 0.        , 0.        , 0.        ,\n",
      "       0.        , 0.        , 0.        , 0.        , 0.        ,\n",
      "       0.        , 0.        , 0.        , 0.        , 0.        ]), 'std_score_time': array([0.21757674, 0.        , 0.        , 0.00102949, 0.        ,\n",
      "       0.        , 0.00075674, 0.        , 0.        , 0.        ,\n",
      "       0.        , 0.        , 0.        , 0.        , 0.        ,\n",
      "       0.        , 0.        , 0.        , 0.        , 0.        ,\n",
      "       0.        , 0.        , 0.        , 0.        , 0.        ,\n",
      "       0.        , 0.        , 0.        , 0.        , 0.        ]), 'param_classify__criterion': masked_array(data=['gini', 'gini', 'gini', 'gini', 'gini', 'gini', 'gini',\n",
      "                   'gini', 'gini', 'gini', 'gini', 'gini', 'gini', 'gini',\n",
      "                   'gini', 'entropy', 'entropy', 'entropy', 'entropy',\n",
      "                   'entropy', 'entropy', 'entropy', 'entropy', 'entropy',\n",
      "                   'entropy', 'entropy', 'entropy', 'entropy', 'entropy',\n",
      "                   'entropy'],\n",
      "             mask=[False, False, False, False, False, False, False, False,\n",
      "                   False, False, False, False, False, False, False, False,\n",
      "                   False, False, False, False, False, False, False, False,\n",
      "                   False, False, False, False, False, False],\n",
      "       fill_value='?',\n",
      "            dtype=object), 'param_classify__max_depth': masked_array(data=[1, 1, 1, 3, 3, 3, 5, 5, 5, 7, 7, 7, 9, 9, 9, 1, 1, 1,\n",
      "                   3, 3, 3, 5, 5, 5, 7, 7, 7, 9, 9, 9],\n",
      "             mask=[False, False, False, False, False, False, False, False,\n",
      "                   False, False, False, False, False, False, False, False,\n",
      "                   False, False, False, False, False, False, False, False,\n",
      "                   False, False, False, False, False, False],\n",
      "       fill_value='?',\n",
      "            dtype=object), 'param_reduce_dim__n_components': masked_array(data=[1, 2, 3, 1, 2, 3, 1, 2, 3, 1, 2, 3, 1, 2, 3, 1, 2, 3,\n",
      "                   1, 2, 3, 1, 2, 3, 1, 2, 3, 1, 2, 3],\n",
      "             mask=[False, False, False, False, False, False, False, False,\n",
      "                   False, False, False, False, False, False, False, False,\n",
      "                   False, False, False, False, False, False, False, False,\n",
      "                   False, False, False, False, False, False],\n",
      "       fill_value='?',\n",
      "            dtype=object), 'params': [{'classify__criterion': 'gini', 'classify__max_depth': 1, 'reduce_dim__n_components': 1}, {'classify__criterion': 'gini', 'classify__max_depth': 1, 'reduce_dim__n_components': 2}, {'classify__criterion': 'gini', 'classify__max_depth': 1, 'reduce_dim__n_components': 3}, {'classify__criterion': 'gini', 'classify__max_depth': 3, 'reduce_dim__n_components': 1}, {'classify__criterion': 'gini', 'classify__max_depth': 3, 'reduce_dim__n_components': 2}, {'classify__criterion': 'gini', 'classify__max_depth': 3, 'reduce_dim__n_components': 3}, {'classify__criterion': 'gini', 'classify__max_depth': 5, 'reduce_dim__n_components': 1}, {'classify__criterion': 'gini', 'classify__max_depth': 5, 'reduce_dim__n_components': 2}, {'classify__criterion': 'gini', 'classify__max_depth': 5, 'reduce_dim__n_components': 3}, {'classify__criterion': 'gini', 'classify__max_depth': 7, 'reduce_dim__n_components': 1}, {'classify__criterion': 'gini', 'classify__max_depth': 7, 'reduce_dim__n_components': 2}, {'classify__criterion': 'gini', 'classify__max_depth': 7, 'reduce_dim__n_components': 3}, {'classify__criterion': 'gini', 'classify__max_depth': 9, 'reduce_dim__n_components': 1}, {'classify__criterion': 'gini', 'classify__max_depth': 9, 'reduce_dim__n_components': 2}, {'classify__criterion': 'gini', 'classify__max_depth': 9, 'reduce_dim__n_components': 3}, {'classify__criterion': 'entropy', 'classify__max_depth': 1, 'reduce_dim__n_components': 1}, {'classify__criterion': 'entropy', 'classify__max_depth': 1, 'reduce_dim__n_components': 2}, {'classify__criterion': 'entropy', 'classify__max_depth': 1, 'reduce_dim__n_components': 3}, {'classify__criterion': 'entropy', 'classify__max_depth': 3, 'reduce_dim__n_components': 1}, {'classify__criterion': 'entropy', 'classify__max_depth': 3, 'reduce_dim__n_components': 2}, {'classify__criterion': 'entropy', 'classify__max_depth': 3, 'reduce_dim__n_components': 3}, {'classify__criterion': 'entropy', 'classify__max_depth': 5, 'reduce_dim__n_components': 1}, {'classify__criterion': 'entropy', 'classify__max_depth': 5, 'reduce_dim__n_components': 2}, {'classify__criterion': 'entropy', 'classify__max_depth': 5, 'reduce_dim__n_components': 3}, {'classify__criterion': 'entropy', 'classify__max_depth': 7, 'reduce_dim__n_components': 1}, {'classify__criterion': 'entropy', 'classify__max_depth': 7, 'reduce_dim__n_components': 2}, {'classify__criterion': 'entropy', 'classify__max_depth': 7, 'reduce_dim__n_components': 3}, {'classify__criterion': 'entropy', 'classify__max_depth': 9, 'reduce_dim__n_components': 1}, {'classify__criterion': 'entropy', 'classify__max_depth': 9, 'reduce_dim__n_components': 2}, {'classify__criterion': 'entropy', 'classify__max_depth': 9, 'reduce_dim__n_components': 3}], 'split0_test_score': array([0.85427136, 0.85427136,        nan, 0.84924623, 0.87939698,\n",
      "              nan, 0.84422111, 0.85427136,        nan, 0.84924623,\n",
      "       0.83919598,        nan, 0.84924623, 0.83417085,        nan,\n",
      "       0.85427136, 0.85427136,        nan, 0.85427136, 0.87939698,\n",
      "              nan, 0.85427136, 0.86934673,        nan, 0.84924623,\n",
      "       0.84924623,        nan, 0.84422111, 0.84924623,        nan]), 'split1_test_score': array([0.87939698, 0.87939698,        nan, 0.86432161, 0.86934673,\n",
      "              nan, 0.84422111, 0.83919598,        nan, 0.84422111,\n",
      "       0.86934673,        nan, 0.78894472, 0.86432161,        nan,\n",
      "       0.87939698, 0.87939698,        nan, 0.87939698, 0.87939698,\n",
      "              nan, 0.86934673, 0.87939698,        nan, 0.84924623,\n",
      "       0.89447236,        nan, 0.80904523, 0.88442211,        nan]), 'mean_test_score': array([0.86683417, 0.86683417,        nan, 0.85678392, 0.87437186,\n",
      "              nan, 0.84422111, 0.84673367,        nan, 0.84673367,\n",
      "       0.85427136,        nan, 0.81909548, 0.84924623,        nan,\n",
      "       0.86683417, 0.86683417,        nan, 0.86683417, 0.87939698,\n",
      "              nan, 0.86180905, 0.87437186,        nan, 0.84924623,\n",
      "       0.8718593 ,        nan, 0.82663317, 0.86683417,        nan]), 'std_test_score': array([0.01256281, 0.01256281,        nan, 0.00753769, 0.00502513,\n",
      "              nan, 0.        , 0.00753769,        nan, 0.00251256,\n",
      "       0.01507538,        nan, 0.03015075, 0.01507538,        nan,\n",
      "       0.01256281, 0.01256281,        nan, 0.01256281, 0.        ,\n",
      "              nan, 0.00753769, 0.00502513,        nan, 0.        ,\n",
      "       0.02261307,        nan, 0.01758794, 0.01758794,        nan]), 'rank_test_score': array([ 5,  5, 28, 12,  2, 27, 18, 16, 26, 16, 13, 25, 20, 14, 23,  5,  5,\n",
      "       24,  5,  1, 29, 11,  2, 22, 14,  4, 21, 19,  5, 30])}\n"
     ]
    }
   ],
   "source": [
    "print(grid.cv_results_)"
   ]
  },
  {
   "cell_type": "markdown",
   "id": "6c5bf0b4",
   "metadata": {},
   "source": [
    "##### Gerando um novo classificador(com o melhor desempenho) dentro do Grid"
   ]
  },
  {
   "cell_type": "code",
   "execution_count": 142,
   "id": "7095bf5a",
   "metadata": {},
   "outputs": [],
   "source": [
    "clf = grid.best_estimator_"
   ]
  },
  {
   "cell_type": "markdown",
   "id": "87e913cd",
   "metadata": {},
   "source": [
    "##### Avaliando da performance do modelo(base de teste separada) e o classificador de melhor hiperparâmetro"
   ]
  },
  {
   "cell_type": "code",
   "execution_count": 143,
   "id": "4220f431",
   "metadata": {},
   "outputs": [
    {
     "data": {
      "text/plain": [
       "0.8830409356725146"
      ]
     },
     "execution_count": 143,
     "metadata": {},
     "output_type": "execute_result"
    }
   ],
   "source": [
    "y_test_pred = clf.predict(X_test)\n",
    "accuracy_score(y_test, y_test_pred)"
   ]
  },
  {
   "cell_type": "markdown",
   "id": "c7a672cf",
   "metadata": {},
   "source": [
    "##### Gerando arvore de decisão"
   ]
  },
  {
   "cell_type": "code",
   "execution_count": 144,
   "id": "02deb08e",
   "metadata": {},
   "outputs": [
    {
     "data": {
      "text/plain": [
       "DecisionTreeClassifier(criterion='entropy', max_depth=2, random_state=1)"
      ]
     },
     "execution_count": 144,
     "metadata": {},
     "output_type": "execute_result"
    }
   ],
   "source": [
    "import matplotlib.pyplot as plt\n",
    "from sklearn.tree import DecisionTreeClassifier\n",
    "from mlxtend.plotting import plot_decision_regions\n",
    "\n",
    "dt_model = DecisionTreeClassifier(criterion='entropy', max_depth=2, random_state=1)\n",
    "dt_model.fit(X_train, y_train)"
   ]
  },
  {
   "cell_type": "markdown",
   "id": "6fbb24a4",
   "metadata": {},
   "source": [
    "##### Avaliando a acurácia(\"predict\")"
   ]
  },
  {
   "cell_type": "code",
   "execution_count": 145,
   "id": "06543806",
   "metadata": {},
   "outputs": [
    {
     "data": {
      "text/plain": [
       "0.9064327485380117"
      ]
     },
     "execution_count": 145,
     "metadata": {},
     "output_type": "execute_result"
    }
   ],
   "source": [
    "y_test_pred = dt_model.predict(X_test)\n",
    "\n",
    "from sklearn.metrics import accuracy_score\n",
    "\n",
    "accuracy_score(y_test, y_test_pred)"
   ]
  },
  {
   "cell_type": "code",
   "execution_count": 146,
   "id": "7c88b5db",
   "metadata": {},
   "outputs": [
    {
     "data": {
      "image/png": "[encoded data removed]",
      "text/plain": [
       "<Figure size 1000x700 with 1 Axes>"
      ]
     },
     "metadata": {},
     "output_type": "display_data"
    }
   ],
   "source": [
    "from sklearn.tree import plot_tree\n",
    "\n",
    "plt.figure(figsize=(10, 7))\n",
    "\n",
    "plot_tree(dt_model, filled=True, rounded=True,\n",
    "          class_names=['Benigno', 'Maligno'],\n",
    "          feature_names=['mean_radius', 'mean_texture'])\n",
    "\n",
    "plt.show()"
   ]
  },
  {
   "cell_type": "markdown",
   "id": "8b7a9fc4",
   "metadata": {},
   "source": [
    "##### Seleção da amaostra( n_1)"
   ]
  },
  {
   "cell_type": "code",
   "execution_count": 147,
   "id": "d7dc1853",
   "metadata": {},
   "outputs": [
    {
     "name": "stdout",
     "output_type": "stream",
     "text": [
      "(171, 2)\n",
      "(171,)\n",
      "(2,)\n",
      "()\n",
      "(1, 2)\n",
      "(1,)\n"
     ]
    }
   ],
   "source": [
    "print (np.shape(X_test))\n",
    "print (np.shape(y_test))\n",
    "\n",
    "X_test1 = X_test[1,:]\n",
    "y_test1 = y_test[1]\n",
    "\n",
    "print (np.shape(X_test1))\n",
    "print (np.shape(y_test1))\n",
    "\n",
    "X_test1 = np.reshape(X_test1, (1,-1))\n",
    "y_test1 = np.reshape(y_test1, (1))\n",
    "\n",
    "print (np.shape(X_test1))\n",
    "print (np.shape(y_test1))"
   ]
  },
  {
   "cell_type": "markdown",
   "id": "ce059b06",
   "metadata": {},
   "source": [
    "##### Verificar a classe da amaostra escolhida. "
   ]
  },
  {
   "cell_type": "code",
   "execution_count": 148,
   "id": "6991a498",
   "metadata": {},
   "outputs": [
    {
     "data": {
      "text/plain": [
       "array([0], dtype=int64)"
      ]
     },
     "execution_count": 148,
     "metadata": {},
     "output_type": "execute_result"
    }
   ],
   "source": [
    "y_test1_pred = dt_model.predict(X_test1)\n",
    "\n",
    "y_test1_pred"
   ]
  },
  {
   "cell_type": "markdown",
   "id": "fbbdb45e",
   "metadata": {},
   "source": [
    "##### Validação da amostra escolhida."
   ]
  },
  {
   "cell_type": "code",
   "execution_count": 149,
   "id": "1fd9d1e1",
   "metadata": {},
   "outputs": [
    {
     "data": {
      "text/plain": [
       "1.0"
      ]
     },
     "execution_count": 149,
     "metadata": {},
     "output_type": "execute_result"
    }
   ],
   "source": [
    "accuracy_score(y_test1, y_test1_pred)"
   ]
  },
  {
   "cell_type": "code",
   "execution_count": 150,
   "id": "1c7aa4c8",
   "metadata": {},
   "outputs": [
    {
     "data": {
      "text/plain": [
       "array([[ 9.504, 12.44 ]])"
      ]
     },
     "execution_count": 150,
     "metadata": {},
     "output_type": "execute_result"
    }
   ],
   "source": [
    "X_test1"
   ]
  },
  {
   "cell_type": "markdown",
   "id": "790f3c1e",
   "metadata": {},
   "source": [
    "##### Caractéristicas e conclusão\n",
    "\n",
    "Mean_radius = 9.504\n",
    "Mean_texture = 12.44\n",
    "\n",
    "if Mean_radius <= 15.025 (verdadeiro)\n",
    "\n",
    "if Mean_texture <= 20.085 (verdadeiro)\n",
    "\n",
    "Class = Benigno"
   ]
  }
 ],
 "metadata": {
  "kernelspec": {
   "display_name": "Python 3 (ipykernel)",
   "language": "python",
   "name": "python3"
  },
  "language_info": {
   "codemirror_mode": {
    "name": "ipython",
    "version": 3
   },
   "file_extension": ".py",
   "mimetype": "text/x-python",
   "name": "python",
   "nbconvert_exporter": "python",
   "pygments_lexer": "ipython3",
   "version": "3.9.13"
  }
 },
 "nbformat": 4,
 "nbformat_minor": 5
}
