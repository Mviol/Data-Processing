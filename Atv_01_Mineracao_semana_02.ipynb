{
  "nbformat": 4,
  "nbformat_minor": 0,
  "metadata": {
    "colab": {
      "provenance": [],
      "authorship_tag": "ABX9TyNJHuxnEFH6PWRB5ApreZIE",
      "include_colab_link": true
    },
    "kernelspec": {
      "name": "python3",
      "display_name": "Python 3"
    },
    "language_info": {
      "name": "python"
    }
  },
  "cells": [
    {
      "cell_type": "markdown",
      "metadata": {
        "id": "view-in-github",
        "colab_type": "text"
      },
      "source": [
        "<a href=\"https://colab.research.google.com/github/Mviol/Data-Processing/blob/main/Atv_01_Mineracao_semana_02.ipynb\" target=\"_parent\"><img src=\"https://colab.research.google.com/assets/colab-badge.svg\" alt=\"Open In Colab\"/></a>"
      ]
    },
    {
      "cell_type": "code",
      "execution_count": 1,
      "metadata": {
        "colab": {
          "base_uri": "https://localhost:8080/"
        },
        "id": "6z15xT663D33",
        "outputId": "86babb20-8b75-4fdb-a0db-a892e62feb94"
      },
      "outputs": [
        {
          "output_type": "stream",
          "name": "stdout",
          "text": [
            "Looking in indexes: https://pypi.org/simple, https://us-python.pkg.dev/colab-wheels/public/simple/\n",
            "Collecting apyori\n",
            "  Downloading apyori-1.1.2.tar.gz (8.6 kB)\n",
            "  Preparing metadata (setup.py) ... \u001b[?25l\u001b[?25hdone\n",
            "Building wheels for collected packages: apyori\n",
            "  Building wheel for apyori (setup.py) ... \u001b[?25l\u001b[?25hdone\n",
            "  Created wheel for apyori: filename=apyori-1.1.2-py3-none-any.whl size=5956 sha256=d195cb87bc2e3c575f1b5afdad9882362f4f8cd817062aa26cfe4e3d5756bfa5\n",
            "  Stored in directory: /root/.cache/pip/wheels/c4/1a/79/20f55c470a50bb3702a8cb7c94d8ada15573538c7f4baebe2d\n",
            "Successfully built apyori\n",
            "Installing collected packages: apyori\n",
            "Successfully installed apyori-1.1.2\n"
          ]
        }
      ],
      "source": [
        "pip install apyori"
      ]
    },
    {
      "cell_type": "code",
      "source": [
        "import pandas as pd\n",
        "from apyori import apriori"
      ],
      "metadata": {
        "id": "Xb4-5rJU3REl"
      },
      "execution_count": 2,
      "outputs": []
    },
    {
      "cell_type": "code",
      "source": [
        "import pandas as pd\n",
        "import ssl\n",
        "\n",
        "ssl._create_default_https_context = ssl._create_unverified_context\n",
        "\n",
        "bd1 = pd.read_csv(r\"https://cloud.utfpr.edu.br/index.php/s/WX1dRWuNGLrEvMd/download\", header=None)"
      ],
      "metadata": {
        "id": "mVyph0Ri3RYF"
      },
      "execution_count": 4,
      "outputs": []
    },
    {
      "cell_type": "code",
      "source": [
        "bd1"
      ],
      "metadata": {
        "colab": {
          "base_uri": "https://localhost:8080/",
          "height": 676
        },
        "id": "6obQGUul3S1Q",
        "outputId": "630e1662-6bea-43a0-ef3d-0c7438ccd509"
      },
      "execution_count": 5,
      "outputs": [
        {
          "output_type": "execute_result",
          "data": {
            "text/plain": [
              "         0       1           2           3\n",
              "0     MILK   BREAD     BISCUIT         NaN\n",
              "1    BREAD    MILK     BISCUIT  CORNFLAKES\n",
              "2    BREAD     TEA   BOURNVITA         NaN\n",
              "3      JAM   MAGGI       BREAD        MILK\n",
              "4    MAGGI     TEA     BISCUIT         NaN\n",
              "5    BREAD     TEA   BOURNVITA         NaN\n",
              "6    MAGGI     TEA  CORNFLAKES         NaN\n",
              "7    MAGGI   BREAD         TEA     BISCUIT\n",
              "8      JAM   MAGGI       BREAD         TEA\n",
              "9    BREAD    MILK         NaN         NaN\n",
              "10  COFFEE    COCK     BISCUIT  CORNFLAKES\n",
              "11  COFFEE    COCK     BISCUIT  CORNFLAKES\n",
              "12  COFFEE   SUGER   BOURNVITA         NaN\n",
              "13   BREAD  COFFEE        COCK         NaN\n",
              "14   BREAD   SUGER     BISCUIT         NaN\n",
              "15  COFFEE   SUGER  CORNFLAKES         NaN\n",
              "16   BREAD   SUGER   BOURNVITA         NaN\n",
              "17   BREAD  COFFEE       SUGER         NaN\n",
              "18   BREAD  COFFEE       SUGER         NaN\n",
              "19     TEA    MILK      COFFEE  CORNFLAKES"
            ],
            "text/html": [
              "\n",
              "  <div id=\"df-29dc78f4-3428-4cad-ad76-e0deaebca91d\">\n",
              "    <div class=\"colab-df-container\">\n",
              "      <div>\n",
              "<style scoped>\n",
              "    .dataframe tbody tr th:only-of-type {\n",
              "        vertical-align: middle;\n",
              "    }\n",
              "\n",
              "    .dataframe tbody tr th {\n",
              "        vertical-align: top;\n",
              "    }\n",
              "\n",
              "    .dataframe thead th {\n",
              "        text-align: right;\n",
              "    }\n",
              "</style>\n",
              "<table border=\"1\" class=\"dataframe\">\n",
              "  <thead>\n",
              "    <tr style=\"text-align: right;\">\n",
              "      <th></th>\n",
              "      <th>0</th>\n",
              "      <th>1</th>\n",
              "      <th>2</th>\n",
              "      <th>3</th>\n",
              "    </tr>\n",
              "  </thead>\n",
              "  <tbody>\n",
              "    <tr>\n",
              "      <th>0</th>\n",
              "      <td>MILK</td>\n",
              "      <td>BREAD</td>\n",
              "      <td>BISCUIT</td>\n",
              "      <td>NaN</td>\n",
              "    </tr>\n",
              "    <tr>\n",
              "      <th>1</th>\n",
              "      <td>BREAD</td>\n",
              "      <td>MILK</td>\n",
              "      <td>BISCUIT</td>\n",
              "      <td>CORNFLAKES</td>\n",
              "    </tr>\n",
              "    <tr>\n",
              "      <th>2</th>\n",
              "      <td>BREAD</td>\n",
              "      <td>TEA</td>\n",
              "      <td>BOURNVITA</td>\n",
              "      <td>NaN</td>\n",
              "    </tr>\n",
              "    <tr>\n",
              "      <th>3</th>\n",
              "      <td>JAM</td>\n",
              "      <td>MAGGI</td>\n",
              "      <td>BREAD</td>\n",
              "      <td>MILK</td>\n",
              "    </tr>\n",
              "    <tr>\n",
              "      <th>4</th>\n",
              "      <td>MAGGI</td>\n",
              "      <td>TEA</td>\n",
              "      <td>BISCUIT</td>\n",
              "      <td>NaN</td>\n",
              "    </tr>\n",
              "    <tr>\n",
              "      <th>5</th>\n",
              "      <td>BREAD</td>\n",
              "      <td>TEA</td>\n",
              "      <td>BOURNVITA</td>\n",
              "      <td>NaN</td>\n",
              "    </tr>\n",
              "    <tr>\n",
              "      <th>6</th>\n",
              "      <td>MAGGI</td>\n",
              "      <td>TEA</td>\n",
              "      <td>CORNFLAKES</td>\n",
              "      <td>NaN</td>\n",
              "    </tr>\n",
              "    <tr>\n",
              "      <th>7</th>\n",
              "      <td>MAGGI</td>\n",
              "      <td>BREAD</td>\n",
              "      <td>TEA</td>\n",
              "      <td>BISCUIT</td>\n",
              "    </tr>\n",
              "    <tr>\n",
              "      <th>8</th>\n",
              "      <td>JAM</td>\n",
              "      <td>MAGGI</td>\n",
              "      <td>BREAD</td>\n",
              "      <td>TEA</td>\n",
              "    </tr>\n",
              "    <tr>\n",
              "      <th>9</th>\n",
              "      <td>BREAD</td>\n",
              "      <td>MILK</td>\n",
              "      <td>NaN</td>\n",
              "      <td>NaN</td>\n",
              "    </tr>\n",
              "    <tr>\n",
              "      <th>10</th>\n",
              "      <td>COFFEE</td>\n",
              "      <td>COCK</td>\n",
              "      <td>BISCUIT</td>\n",
              "      <td>CORNFLAKES</td>\n",
              "    </tr>\n",
              "    <tr>\n",
              "      <th>11</th>\n",
              "      <td>COFFEE</td>\n",
              "      <td>COCK</td>\n",
              "      <td>BISCUIT</td>\n",
              "      <td>CORNFLAKES</td>\n",
              "    </tr>\n",
              "    <tr>\n",
              "      <th>12</th>\n",
              "      <td>COFFEE</td>\n",
              "      <td>SUGER</td>\n",
              "      <td>BOURNVITA</td>\n",
              "      <td>NaN</td>\n",
              "    </tr>\n",
              "    <tr>\n",
              "      <th>13</th>\n",
              "      <td>BREAD</td>\n",
              "      <td>COFFEE</td>\n",
              "      <td>COCK</td>\n",
              "      <td>NaN</td>\n",
              "    </tr>\n",
              "    <tr>\n",
              "      <th>14</th>\n",
              "      <td>BREAD</td>\n",
              "      <td>SUGER</td>\n",
              "      <td>BISCUIT</td>\n",
              "      <td>NaN</td>\n",
              "    </tr>\n",
              "    <tr>\n",
              "      <th>15</th>\n",
              "      <td>COFFEE</td>\n",
              "      <td>SUGER</td>\n",
              "      <td>CORNFLAKES</td>\n",
              "      <td>NaN</td>\n",
              "    </tr>\n",
              "    <tr>\n",
              "      <th>16</th>\n",
              "      <td>BREAD</td>\n",
              "      <td>SUGER</td>\n",
              "      <td>BOURNVITA</td>\n",
              "      <td>NaN</td>\n",
              "    </tr>\n",
              "    <tr>\n",
              "      <th>17</th>\n",
              "      <td>BREAD</td>\n",
              "      <td>COFFEE</td>\n",
              "      <td>SUGER</td>\n",
              "      <td>NaN</td>\n",
              "    </tr>\n",
              "    <tr>\n",
              "      <th>18</th>\n",
              "      <td>BREAD</td>\n",
              "      <td>COFFEE</td>\n",
              "      <td>SUGER</td>\n",
              "      <td>NaN</td>\n",
              "    </tr>\n",
              "    <tr>\n",
              "      <th>19</th>\n",
              "      <td>TEA</td>\n",
              "      <td>MILK</td>\n",
              "      <td>COFFEE</td>\n",
              "      <td>CORNFLAKES</td>\n",
              "    </tr>\n",
              "  </tbody>\n",
              "</table>\n",
              "</div>\n",
              "      <button class=\"colab-df-convert\" onclick=\"convertToInteractive('df-29dc78f4-3428-4cad-ad76-e0deaebca91d')\"\n",
              "              title=\"Convert this dataframe to an interactive table.\"\n",
              "              style=\"display:none;\">\n",
              "        \n",
              "  <svg xmlns=\"http://www.w3.org/2000/svg\" height=\"24px\"viewBox=\"0 0 24 24\"\n",
              "       width=\"24px\">\n",
              "    <path d=\"M0 0h24v24H0V0z\" fill=\"none\"/>\n",
              "    <path d=\"M18.56 5.44l.94 2.06.94-2.06 2.06-.94-2.06-.94-.94-2.06-.94 2.06-2.06.94zm-11 1L8.5 8.5l.94-2.06 2.06-.94-2.06-.94L8.5 2.5l-.94 2.06-2.06.94zm10 10l.94 2.06.94-2.06 2.06-.94-2.06-.94-.94-2.06-.94 2.06-2.06.94z\"/><path d=\"M17.41 7.96l-1.37-1.37c-.4-.4-.92-.59-1.43-.59-.52 0-1.04.2-1.43.59L10.3 9.45l-7.72 7.72c-.78.78-.78 2.05 0 2.83L4 21.41c.39.39.9.59 1.41.59.51 0 1.02-.2 1.41-.59l7.78-7.78 2.81-2.81c.8-.78.8-2.07 0-2.86zM5.41 20L4 18.59l7.72-7.72 1.47 1.35L5.41 20z\"/>\n",
              "  </svg>\n",
              "      </button>\n",
              "      \n",
              "  <style>\n",
              "    .colab-df-container {\n",
              "      display:flex;\n",
              "      flex-wrap:wrap;\n",
              "      gap: 12px;\n",
              "    }\n",
              "\n",
              "    .colab-df-convert {\n",
              "      background-color: #E8F0FE;\n",
              "      border: none;\n",
              "      border-radius: 50%;\n",
              "      cursor: pointer;\n",
              "      display: none;\n",
              "      fill: #1967D2;\n",
              "      height: 32px;\n",
              "      padding: 0 0 0 0;\n",
              "      width: 32px;\n",
              "    }\n",
              "\n",
              "    .colab-df-convert:hover {\n",
              "      background-color: #E2EBFA;\n",
              "      box-shadow: 0px 1px 2px rgba(60, 64, 67, 0.3), 0px 1px 3px 1px rgba(60, 64, 67, 0.15);\n",
              "      fill: #174EA6;\n",
              "    }\n",
              "\n",
              "    [theme=dark] .colab-df-convert {\n",
              "      background-color: #3B4455;\n",
              "      fill: #D2E3FC;\n",
              "    }\n",
              "\n",
              "    [theme=dark] .colab-df-convert:hover {\n",
              "      background-color: #434B5C;\n",
              "      box-shadow: 0px 1px 3px 1px rgba(0, 0, 0, 0.15);\n",
              "      filter: drop-shadow(0px 1px 2px rgba(0, 0, 0, 0.3));\n",
              "      fill: #FFFFFF;\n",
              "    }\n",
              "  </style>\n",
              "\n",
              "      <script>\n",
              "        const buttonEl =\n",
              "          document.querySelector('#df-29dc78f4-3428-4cad-ad76-e0deaebca91d button.colab-df-convert');\n",
              "        buttonEl.style.display =\n",
              "          google.colab.kernel.accessAllowed ? 'block' : 'none';\n",
              "\n",
              "        async function convertToInteractive(key) {\n",
              "          const element = document.querySelector('#df-29dc78f4-3428-4cad-ad76-e0deaebca91d');\n",
              "          const dataTable =\n",
              "            await google.colab.kernel.invokeFunction('convertToInteractive',\n",
              "                                                     [key], {});\n",
              "          if (!dataTable) return;\n",
              "\n",
              "          const docLinkHtml = 'Like what you see? Visit the ' +\n",
              "            '<a target=\"_blank\" href=https://colab.research.google.com/notebooks/data_table.ipynb>data table notebook</a>'\n",
              "            + ' to learn more about interactive tables.';\n",
              "          element.innerHTML = '';\n",
              "          dataTable['output_type'] = 'display_data';\n",
              "          await google.colab.output.renderOutput(dataTable, element);\n",
              "          const docLink = document.createElement('div');\n",
              "          docLink.innerHTML = docLinkHtml;\n",
              "          element.appendChild(docLink);\n",
              "        }\n",
              "      </script>\n",
              "    </div>\n",
              "  </div>\n",
              "  "
            ]
          },
          "metadata": {},
          "execution_count": 5
        }
      ]
    },
    {
      "cell_type": "code",
      "source": [
        "# transações de bd1\n",
        "tr1 = []\n",
        "\n",
        "for i in range(bd1.shape[0]):\n",
        "    tr1.append([str(bd1.values[i, j]) for j in range(bd1.shape[1])  if str(bd1.values[i, j]) != 'nan'])"
      ],
      "metadata": {
        "id": "TIgjt0lr3TK1"
      },
      "execution_count": 6,
      "outputs": []
    },
    {
      "cell_type": "code",
      "source": [
        "tr1"
      ],
      "metadata": {
        "colab": {
          "base_uri": "https://localhost:8080/"
        },
        "id": "KR6WSnGz3nUx",
        "outputId": "17e7b42d-1742-40b0-90bb-990d150d3a62"
      },
      "execution_count": 7,
      "outputs": [
        {
          "output_type": "execute_result",
          "data": {
            "text/plain": [
              "[['MILK', 'BREAD', 'BISCUIT'],\n",
              " ['BREAD', 'MILK', 'BISCUIT', 'CORNFLAKES'],\n",
              " ['BREAD', 'TEA', 'BOURNVITA'],\n",
              " ['JAM', 'MAGGI', 'BREAD', 'MILK'],\n",
              " ['MAGGI', 'TEA', 'BISCUIT'],\n",
              " ['BREAD', 'TEA', 'BOURNVITA'],\n",
              " ['MAGGI', 'TEA', 'CORNFLAKES'],\n",
              " ['MAGGI', 'BREAD', 'TEA', 'BISCUIT'],\n",
              " ['JAM', 'MAGGI', 'BREAD', 'TEA'],\n",
              " ['BREAD', 'MILK'],\n",
              " ['COFFEE', 'COCK', 'BISCUIT', 'CORNFLAKES'],\n",
              " ['COFFEE', 'COCK', 'BISCUIT', 'CORNFLAKES'],\n",
              " ['COFFEE', 'SUGER', 'BOURNVITA'],\n",
              " ['BREAD', 'COFFEE', 'COCK'],\n",
              " ['BREAD', 'SUGER', 'BISCUIT'],\n",
              " ['COFFEE', 'SUGER', 'CORNFLAKES'],\n",
              " ['BREAD', 'SUGER', 'BOURNVITA'],\n",
              " ['BREAD', 'COFFEE', 'SUGER'],\n",
              " ['BREAD', 'COFFEE', 'SUGER'],\n",
              " ['TEA', 'MILK', 'COFFEE', 'CORNFLAKES']]"
            ]
          },
          "metadata": {},
          "execution_count": 7
        }
      ]
    },
    {
      "cell_type": "markdown",
      "source": [
        "Aplicando do algoritmo Apriori"
      ],
      "metadata": {
        "id": "EJyJ4QwI3x1Z"
      }
    },
    {
      "cell_type": "code",
      "source": [
        "regras_associacao1 = apriori(tr1, min_support = 0.10, min_confidence = 0.9, min_lift = 1.6)"
      ],
      "metadata": {
        "id": "DWXXEViN3nq9"
      },
      "execution_count": 8,
      "outputs": []
    },
    {
      "cell_type": "code",
      "source": [
        "listaRA1 = list(regras_associacao1)\n",
        "listaRA1"
      ],
      "metadata": {
        "colab": {
          "base_uri": "https://localhost:8080/"
        },
        "id": "ceBvBF5g3TgD",
        "outputId": "071575cd-4c79-48a7-943a-b6c06bf2a33e"
      },
      "execution_count": 9,
      "outputs": [
        {
          "output_type": "execute_result",
          "data": {
            "text/plain": [
              "[RelationRecord(items=frozenset({'COFFEE', 'COCK'}), support=0.15, ordered_statistics=[OrderedStatistic(items_base=frozenset({'COCK'}), items_add=frozenset({'COFFEE'}), confidence=1.0, lift=2.5)]),\n",
              " RelationRecord(items=frozenset({'MAGGI', 'JAM'}), support=0.1, ordered_statistics=[OrderedStatistic(items_base=frozenset({'JAM'}), items_add=frozenset({'MAGGI'}), confidence=1.0, lift=4.0)]),\n",
              " RelationRecord(items=frozenset({'BISCUIT', 'COFFEE', 'COCK'}), support=0.1, ordered_statistics=[OrderedStatistic(items_base=frozenset({'BISCUIT', 'COCK'}), items_add=frozenset({'COFFEE'}), confidence=1.0, lift=2.5), OrderedStatistic(items_base=frozenset({'BISCUIT', 'COFFEE'}), items_add=frozenset({'COCK'}), confidence=1.0, lift=6.666666666666667)]),\n",
              " RelationRecord(items=frozenset({'BISCUIT', 'CORNFLAKES', 'COCK'}), support=0.1, ordered_statistics=[OrderedStatistic(items_base=frozenset({'BISCUIT', 'COCK'}), items_add=frozenset({'CORNFLAKES'}), confidence=1.0, lift=3.3333333333333335), OrderedStatistic(items_base=frozenset({'CORNFLAKES', 'COCK'}), items_add=frozenset({'BISCUIT'}), confidence=1.0, lift=2.857142857142857)]),\n",
              " RelationRecord(items=frozenset({'BISCUIT', 'CORNFLAKES', 'COFFEE'}), support=0.1, ordered_statistics=[OrderedStatistic(items_base=frozenset({'BISCUIT', 'COFFEE'}), items_add=frozenset({'CORNFLAKES'}), confidence=1.0, lift=3.3333333333333335)]),\n",
              " RelationRecord(items=frozenset({'BISCUIT', 'MAGGI', 'TEA'}), support=0.1, ordered_statistics=[OrderedStatistic(items_base=frozenset({'BISCUIT', 'MAGGI'}), items_add=frozenset({'TEA'}), confidence=1.0, lift=2.857142857142857), OrderedStatistic(items_base=frozenset({'BISCUIT', 'TEA'}), items_add=frozenset({'MAGGI'}), confidence=1.0, lift=4.0)]),\n",
              " RelationRecord(items=frozenset({'MAGGI', 'JAM', 'BREAD'}), support=0.1, ordered_statistics=[OrderedStatistic(items_base=frozenset({'JAM'}), items_add=frozenset({'MAGGI', 'BREAD'}), confidence=1.0, lift=6.666666666666667), OrderedStatistic(items_base=frozenset({'JAM', 'BREAD'}), items_add=frozenset({'MAGGI'}), confidence=1.0, lift=4.0)]),\n",
              " RelationRecord(items=frozenset({'CORNFLAKES', 'COFFEE', 'COCK'}), support=0.1, ordered_statistics=[OrderedStatistic(items_base=frozenset({'CORNFLAKES', 'COCK'}), items_add=frozenset({'COFFEE'}), confidence=1.0, lift=2.5)]),\n",
              " RelationRecord(items=frozenset({'BISCUIT', 'CORNFLAKES', 'COFFEE', 'COCK'}), support=0.1, ordered_statistics=[OrderedStatistic(items_base=frozenset({'BISCUIT', 'COCK'}), items_add=frozenset({'CORNFLAKES', 'COFFEE'}), confidence=1.0, lift=5.0), OrderedStatistic(items_base=frozenset({'BISCUIT', 'COFFEE'}), items_add=frozenset({'CORNFLAKES', 'COCK'}), confidence=1.0, lift=10.0), OrderedStatistic(items_base=frozenset({'CORNFLAKES', 'COCK'}), items_add=frozenset({'BISCUIT', 'COFFEE'}), confidence=1.0, lift=10.0), OrderedStatistic(items_base=frozenset({'BISCUIT', 'COFFEE', 'COCK'}), items_add=frozenset({'CORNFLAKES'}), confidence=1.0, lift=3.3333333333333335), OrderedStatistic(items_base=frozenset({'BISCUIT', 'CORNFLAKES', 'COCK'}), items_add=frozenset({'COFFEE'}), confidence=1.0, lift=2.5), OrderedStatistic(items_base=frozenset({'BISCUIT', 'CORNFLAKES', 'COFFEE'}), items_add=frozenset({'COCK'}), confidence=1.0, lift=6.666666666666667), OrderedStatistic(items_base=frozenset({'CORNFLAKES', 'COFFEE', 'COCK'}), items_add=frozenset({'BISCUIT'}), confidence=1.0, lift=2.857142857142857)])]"
            ]
          },
          "metadata": {},
          "execution_count": 9
        }
      ]
    },
    {
      "cell_type": "markdown",
      "source": [
        "Lista de regras de associação formatada\n",
        "Exemplo: \"frozenset({'Café'}), frozenset({'Manteiga'})\" é equivalente a \"{'Café'} -> {'Manteiga'}\"\n"
      ],
      "metadata": {
        "id": "nUi2_QE04KyA"
      }
    },
    {
      "cell_type": "code",
      "source": [
        "listaFormatadaRA1 = []\n",
        "\n",
        "for i in range(len(listaRA1)):\n",
        "    listaFormatadaRA1.append([list(j) for j in listaRA1[i][2]])\n",
        "\n",
        "listaFormatadaRA1"
      ],
      "metadata": {
        "colab": {
          "base_uri": "https://localhost:8080/"
        },
        "id": "44YZg3C94D3d",
        "outputId": "333e4b82-2fef-48f2-c077-fc331ad59d9c"
      },
      "execution_count": 11,
      "outputs": [
        {
          "output_type": "execute_result",
          "data": {
            "text/plain": [
              "[[[frozenset({'COCK'}), frozenset({'COFFEE'}), 1.0, 2.5]],\n",
              " [[frozenset({'JAM'}), frozenset({'MAGGI'}), 1.0, 4.0]],\n",
              " [[frozenset({'BISCUIT', 'COCK'}), frozenset({'COFFEE'}), 1.0, 2.5],\n",
              "  [frozenset({'BISCUIT', 'COFFEE'}),\n",
              "   frozenset({'COCK'}),\n",
              "   1.0,\n",
              "   6.666666666666667]],\n",
              " [[frozenset({'BISCUIT', 'COCK'}),\n",
              "   frozenset({'CORNFLAKES'}),\n",
              "   1.0,\n",
              "   3.3333333333333335],\n",
              "  [frozenset({'COCK', 'CORNFLAKES'}),\n",
              "   frozenset({'BISCUIT'}),\n",
              "   1.0,\n",
              "   2.857142857142857]],\n",
              " [[frozenset({'BISCUIT', 'COFFEE'}),\n",
              "   frozenset({'CORNFLAKES'}),\n",
              "   1.0,\n",
              "   3.3333333333333335]],\n",
              " [[frozenset({'BISCUIT', 'MAGGI'}),\n",
              "   frozenset({'TEA'}),\n",
              "   1.0,\n",
              "   2.857142857142857],\n",
              "  [frozenset({'BISCUIT', 'TEA'}), frozenset({'MAGGI'}), 1.0, 4.0]],\n",
              " [[frozenset({'JAM'}), frozenset({'BREAD', 'MAGGI'}), 1.0, 6.666666666666667],\n",
              "  [frozenset({'BREAD', 'JAM'}), frozenset({'MAGGI'}), 1.0, 4.0]],\n",
              " [[frozenset({'COCK', 'CORNFLAKES'}), frozenset({'COFFEE'}), 1.0, 2.5]],\n",
              " [[frozenset({'BISCUIT', 'COCK'}),\n",
              "   frozenset({'COFFEE', 'CORNFLAKES'}),\n",
              "   1.0,\n",
              "   5.0],\n",
              "  [frozenset({'BISCUIT', 'COFFEE'}),\n",
              "   frozenset({'COCK', 'CORNFLAKES'}),\n",
              "   1.0,\n",
              "   10.0],\n",
              "  [frozenset({'COCK', 'CORNFLAKES'}),\n",
              "   frozenset({'BISCUIT', 'COFFEE'}),\n",
              "   1.0,\n",
              "   10.0],\n",
              "  [frozenset({'BISCUIT', 'COCK', 'COFFEE'}),\n",
              "   frozenset({'CORNFLAKES'}),\n",
              "   1.0,\n",
              "   3.3333333333333335],\n",
              "  [frozenset({'BISCUIT', 'COCK', 'CORNFLAKES'}),\n",
              "   frozenset({'COFFEE'}),\n",
              "   1.0,\n",
              "   2.5],\n",
              "  [frozenset({'BISCUIT', 'COFFEE', 'CORNFLAKES'}),\n",
              "   frozenset({'COCK'}),\n",
              "   1.0,\n",
              "   6.666666666666667],\n",
              "  [frozenset({'COCK', 'COFFEE', 'CORNFLAKES'}),\n",
              "   frozenset({'BISCUIT'}),\n",
              "   1.0,\n",
              "   2.857142857142857]]]"
            ]
          },
          "metadata": {},
          "execution_count": 11
        }
      ]
    }
  ]
}