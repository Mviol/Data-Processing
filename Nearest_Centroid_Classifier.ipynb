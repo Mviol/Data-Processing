{
  "nbformat": 4,
  "nbformat_minor": 0,
  "metadata": {
    "colab": {
      "provenance": []
    },
    "kernelspec": {
      "name": "python3",
      "display_name": "Python 3"
    },
    "language_info": {
      "name": "python"
    }
  },
  "cells": [
    {
      "cell_type": "markdown",
      "source": [
        "Importando base de dados."
      ],
      "metadata": {
        "id": "ZMBL3_Kgj7HF"
      }
    },
    {
      "cell_type": "code",
      "execution_count": 15,
      "metadata": {
        "id": "NlSZxCJOhok2"
      },
      "outputs": [],
      "source": [
        "from sklearn import datasets\n",
        "bc = datasets.load_breast_cancer()\n",
        "\n",
        "X = bc.data[:, :2] \n",
        "y = bc.target"
      ]
    },
    {
      "cell_type": "markdown",
      "source": [
        " Pre-processamento (Treino/Teste)"
      ],
      "metadata": {
        "id": "Eqh_B1RpkDPV"
      }
    },
    {
      "cell_type": "code",
      "source": [
        "import numpy as np\n",
        "from sklearn.model_selection import train_test_split\n",
        "\n",
        "X_train, X_test, y_train, y_test = train_test_split(X, y, test_size=0.2, shuffle=True, random_state=123, stratify=y)\n",
        "     "
      ],
      "metadata": {
        "id": "vOztqbqYiPnG"
      },
      "execution_count": 16,
      "outputs": []
    },
    {
      "cell_type": "markdown",
      "source": [
        "Normalização "
      ],
      "metadata": {
        "id": "8489Ld0Sk36L"
      }
    },
    {
      "cell_type": "code",
      "source": [
        "from sklearn.preprocessing import StandardScaler\n",
        "\n",
        "scaler = StandardScaler()\n",
        "scaler.fit(X_train)\n",
        "\n",
        "X_train_std = scaler.transform(X_train)\n",
        "X_test_std = scaler.transform(X_test)"
      ],
      "metadata": {
        "id": "mxfNyer6iQN-"
      },
      "execution_count": 17,
      "outputs": []
    },
    {
      "cell_type": "markdown",
      "source": [
        "Geração do Centróide / Treinando"
      ],
      "metadata": {
        "id": "6vBzzYEDlIk7"
      }
    },
    {
      "cell_type": "code",
      "source": [
        "from sklearn.neighbors import NearestCentroid\n",
        "\n",
        "cn_model = NearestCentroid()\n",
        "cn_model.fit(X_train_std, y_train)\n",
        "\n",
        "cn_model.centroids_"
      ],
      "metadata": {
        "colab": {
          "base_uri": "https://localhost:8080/"
        },
        "id": "e3rBzAsHiQg2",
        "outputId": "78896b2f-001c-4e0e-cca8-70c705b613e6"
      },
      "execution_count": 18,
      "outputs": [
        {
          "output_type": "execute_result",
          "data": {
            "text/plain": [
              "array([[ 0.94557992,  0.48801181],\n",
              "       [-0.56403013, -0.29109476]])"
            ]
          },
          "metadata": {},
          "execution_count": 18
        }
      ]
    },
    {
      "cell_type": "markdown",
      "source": [
        "\n",
        "Plot segundo o centróide"
      ],
      "metadata": {
        "id": "t-DL9hT9lU-8"
      }
    },
    {
      "cell_type": "code",
      "source": [
        "import matplotlib.pyplot as plt\n",
        "\n",
        "plt.scatter(X_train_std[y_train==0, 0], X_train_std[y_train==0, 1], c='r')\n",
        "plt.scatter(X_train_std[y_train==1, 0], X_train_std[y_train==1, 1], c='g')\n",
        "plt.scatter(X_train_std[y_train==2, 0], X_train_std[y_train==2, 1], c='b')\n",
        "\n",
        "plt.scatter(cn_model.centroids_[:,0], cn_model.centroids_[:,1], s=200, marker='*', c='k')"
      ],
      "metadata": {
        "colab": {
          "base_uri": "https://localhost:8080/",
          "height": 282
        },
        "id": "u--NeqF2iQzW",
        "outputId": "b313b7da-624d-47b3-c157-9a8c75a2f8dc"
      },
      "execution_count": 19,
      "outputs": [
        {
          "output_type": "execute_result",
          "data": {
            "text/plain": [
              "<matplotlib.collections.PathCollection at 0x7f4ecc0d5f40>"
            ]
          },
          "metadata": {},
          "execution_count": 19
        },
        {
          "output_type": "display_data",
          "data": {
            "text/plain": [
              "<Figure size 432x288 with 1 Axes>"
            ],
            "image/png": "[encoded data removed]"
          },
          "metadata": {
            "needs_background": "light"
          }
        }
      ]
    },
    {
      "cell_type": "markdown",
      "source": [
        "Manipulando conjunto de Teste"
      ],
      "metadata": {
        "id": "2fqOm86wlhOc"
      }
    },
    {
      "cell_type": "code",
      "source": [
        "y_pred = cn_model.predict(X_test_std)\n",
        "print(y_pred)\n",
        "print(y_test)"
      ],
      "metadata": {
        "colab": {
          "base_uri": "https://localhost:8080/"
        },
        "id": "BQLJKVLaiREX",
        "outputId": "f484063d-ae73-44e0-b786-75c227b7341d"
      },
      "execution_count": 20,
      "outputs": [
        {
          "output_type": "stream",
          "name": "stdout",
          "text": [
            "[0 0 1 1 1 0 1 0 1 1 1 1 1 1 1 0 1 1 1 1 1 1 0 1 0 1 1 1 1 0 1 1 0 1 0 0 1\n",
            " 1 1 0 1 1 1 1 1 1 1 0 1 1 0 1 1 1 1 0 0 0 0 0 1 1 1 0 1 0 1 1 1 0 1 0 0 1\n",
            " 1 0 1 0 0 0 1 0 1 1 0 1 0 1 1 0 0 1 1 0 0 1 0 1 1 0 1 1 1 1 1 1 1 0 1 1 1\n",
            " 1 1 1]\n",
            "[0 0 1 1 1 0 1 0 1 1 1 1 1 1 1 0 1 1 1 1 1 1 0 1 0 1 1 1 1 0 1 1 0 1 1 0 1\n",
            " 1 0 0 1 1 1 1 0 1 1 0 1 1 0 1 1 1 1 0 0 0 0 0 1 1 1 0 0 1 0 1 1 0 1 0 0 1\n",
            " 1 0 1 0 0 0 1 0 1 1 0 1 0 1 1 0 0 1 1 0 0 1 0 1 1 0 1 1 1 0 1 1 1 0 0 1 1\n",
            " 1 1 1]\n"
          ]
        }
      ]
    },
    {
      "cell_type": "markdown",
      "source": [
        "Acurácia / Métrica"
      ],
      "metadata": {
        "id": "Wf7hfTzRlpGc"
      }
    },
    {
      "cell_type": "code",
      "source": [
        "from sklearn.metrics import accuracy_score\n",
        "\n",
        "accuracy_score(y_test, y_pred)"
      ],
      "metadata": {
        "colab": {
          "base_uri": "https://localhost:8080/"
        },
        "id": "Gq6i2u5JiRWl",
        "outputId": "8cf44dbb-5d9a-4c1d-c1c4-8d82ef4a1aa0"
      },
      "execution_count": 21,
      "outputs": [
        {
          "output_type": "execute_result",
          "data": {
            "text/plain": [
              "0.9298245614035088"
            ]
          },
          "metadata": {},
          "execution_count": 21
        }
      ]
    },
    {
      "cell_type": "markdown",
      "source": [
        "Plot conjunto Teste"
      ],
      "metadata": {
        "id": "4utlT1TGl0XE"
      }
    },
    {
      "cell_type": "code",
      "source": [
        "import matplotlib.pyplot as plt\n",
        "\n",
        "plt.scatter(X_test_std[y_test==0, 0], X_test_std[y_test==0, 1], c='r')\n",
        "plt.scatter(X_test_std[y_test==1, 0], X_test_std[y_test==1, 1], c='g')\n",
        "plt.scatter(X_test_std[y_test==2, 0], X_test_std[y_test==2, 1], c='b')\n",
        "\n",
        "plt.scatter(cn_model.centroids_[:,0], cn_model.centroids_[:,1], s=200, marker='*', c='k')"
      ],
      "metadata": {
        "colab": {
          "base_uri": "https://localhost:8080/",
          "height": 282
        },
        "id": "4HD1c9c0iRve",
        "outputId": "63d62dd6-a064-4a19-f46d-17d869973489"
      },
      "execution_count": 22,
      "outputs": [
        {
          "output_type": "execute_result",
          "data": {
            "text/plain": [
              "<matplotlib.collections.PathCollection at 0x7f4ecc16d5b0>"
            ]
          },
          "metadata": {},
          "execution_count": 22
        },
        {
          "output_type": "display_data",
          "data": {
            "text/plain": [
              "<Figure size 432x288 with 1 Axes>"
            ],
            "image/png": "[encoded data removed]"
          },
          "metadata": {
            "needs_background": "light"
          }
        }
      ]
    },
    {
      "cell_type": "markdown",
      "source": [
        "Implemtando a Função PREDICT no data base de teste\n"
      ],
      "metadata": {
        "id": "vqIglYHJl9LL"
      }
    },
    {
      "cell_type": "code",
      "source": [
        "y_pred = cn_model.predict(X_test)\n",
        "print(y_pred)\n",
        "print(y_test)"
      ],
      "metadata": {
        "id": "nOb6dNEOi9cN",
        "outputId": "31592c9a-d16d-432f-ba5d-b0fd47d2ea14",
        "colab": {
          "base_uri": "https://localhost:8080/"
        }
      },
      "execution_count": 23,
      "outputs": [
        {
          "output_type": "stream",
          "name": "stdout",
          "text": [
            "[0 0 0 0 0 0 0 0 0 0 0 0 0 0 0 0 0 0 0 0 0 0 0 0 0 0 0 0 0 0 0 0 0 0 0 0 0\n",
            " 0 0 0 0 0 0 0 0 0 0 0 0 0 0 0 0 0 0 0 0 0 0 0 0 0 0 0 0 0 0 0 0 0 0 0 0 0\n",
            " 0 0 0 0 0 0 0 0 0 0 0 0 0 0 0 0 0 0 0 0 0 0 0 0 0 0 0 0 0 0 0 0 0 0 0 0 0\n",
            " 0 0 0]\n",
            "[0 0 1 1 1 0 1 0 1 1 1 1 1 1 1 0 1 1 1 1 1 1 0 1 0 1 1 1 1 0 1 1 0 1 1 0 1\n",
            " 1 0 0 1 1 1 1 0 1 1 0 1 1 0 1 1 1 1 0 0 0 0 0 1 1 1 0 0 1 0 1 1 0 1 0 0 1\n",
            " 1 0 1 0 0 0 1 0 1 1 0 1 0 1 1 0 0 1 1 0 0 1 0 1 1 0 1 1 1 0 1 1 1 0 0 1 1\n",
            " 1 1 1]\n"
          ]
        }
      ]
    }
  ]
}